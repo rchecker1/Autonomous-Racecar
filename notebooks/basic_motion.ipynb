{
 "cells": [
  {
   "cell_type": "markdown",
   "metadata": {},
   "source": [
    "Execute the following block of code by selecting it and clicking ``ctrl + enter`` to create an ``NvidiaRacecar`` class.  "
   ]
  },
  {
   "cell_type": "code",
   "execution_count": 8,
   "metadata": {},
   "outputs": [
    {
     "name": "stdout",
     "output_type": "stream",
     "text": [
      "✅ NvidiaRacecar ready for training!\n",
      "✅ steering_gain: -0.65\n",
      "✅ steering_offset: 0.0\n",
      "✅ throttle_gain: 0.8\n",
      "🎯 Ready for AI training!\n"
     ]
    }
   ],
   "source": [
    "# Complete working NvidiaRacecar for the training notebook\n",
    "import traitlets\n",
    "import smbus\n",
    "import time\n",
    "\n",
    "class Racecar(traitlets.HasTraits):\n",
    "    steering = traitlets.Float()\n",
    "    throttle = traitlets.Float()\n",
    "    \n",
    "    @traitlets.validate('steering')\n",
    "    def _clip_steering(self, proposal):\n",
    "        return max(-1.0, min(1.0, proposal['value']))\n",
    "        \n",
    "    @traitlets.validate('throttle')\n",
    "    def _clip_throttle(self, proposal):\n",
    "        return max(-1.0, min(1.0, proposal['value']))\n",
    "\n",
    "class NvidiaRacecar(Racecar):\n",
    "    # These are the attributes the notebook expects\n",
    "    i2c_address = traitlets.Integer(default_value=0x40)\n",
    "    steering_gain = traitlets.Float(default_value=-0.65)\n",
    "    steering_offset = traitlets.Float(default_value=0)\n",
    "    steering_channel = traitlets.Integer(default_value=0)\n",
    "    throttle_gain = traitlets.Float(default_value=0.8)\n",
    "    throttle_channel = traitlets.Integer(default_value=1)\n",
    "    \n",
    "    def __init__(self, *args, **kwargs):\n",
    "        super(NvidiaRacecar, self).__init__(*args, **kwargs)\n",
    "        self.bus = smbus.SMBus(7)\n",
    "        self.center_pulse = 1500\n",
    "        self._initialize_pca9685()\n",
    "        print(\"✅ NvidiaRacecar ready for training!\")\n",
    "    \n",
    "    def _initialize_pca9685(self):\n",
    "        try:\n",
    "            self.bus.write_byte_data(self.i2c_address, 0x00, 0x10)\n",
    "            time.sleep(0.005)\n",
    "            prescale = int(25000000 / (4096 * 50) - 1)\n",
    "            self.bus.write_byte_data(self.i2c_address, 0xFE, prescale)\n",
    "            self.bus.write_byte_data(self.i2c_address, 0x00, 0x20)\n",
    "            time.sleep(0.005)\n",
    "            self.bus.write_byte_data(self.i2c_address, 0x01, 0x04)\n",
    "            self._set_servo_pulse(0, self.center_pulse)\n",
    "            self._set_servo_pulse(1, self.center_pulse)\n",
    "        except Exception as e:\n",
    "            print(f\"Warning: {e}\")\n",
    "    \n",
    "    def _set_servo_pulse(self, channel, pulse_us):\n",
    "        pulse_us = max(1000, min(2000, pulse_us))\n",
    "        pwm_value = int((pulse_us * 4096) / 20000)\n",
    "        base_reg = 0x06 + 4 * channel\n",
    "        try:\n",
    "            self.bus.write_byte_data(self.i2c_address, base_reg, 0)\n",
    "            self.bus.write_byte_data(self.i2c_address, base_reg + 1, 0)\n",
    "            self.bus.write_byte_data(self.i2c_address, base_reg + 2, pwm_value & 0xFF)\n",
    "            self.bus.write_byte_data(self.i2c_address, base_reg + 3, (pwm_value >> 8) & 0xFF)\n",
    "        except Exception as e:\n",
    "            print(f\"PWM Error: {e}\")\n",
    "    \n",
    "    @traitlets.observe('steering')\n",
    "    def _on_steering(self, change):\n",
    "        scaled = change['new'] * self.steering_gain + self.steering_offset\n",
    "        pulse_us = self.center_pulse + (scaled * 500)\n",
    "        self._set_servo_pulse(self.steering_channel, pulse_us)\n",
    "    \n",
    "    @traitlets.observe('throttle')\n",
    "    def _on_throttle(self, change):\n",
    "        scaled = change['new'] * self.throttle_gain\n",
    "        if scaled > 0:\n",
    "            pulse_us = self.center_pulse - (scaled * 200)  # Forward for your ESC\n",
    "        elif scaled < 0:\n",
    "            pulse_us = self.center_pulse + (abs(scaled) * 200)  # Reverse\n",
    "        else:\n",
    "            pulse_us = self.center_pulse\n",
    "        self._set_servo_pulse(self.throttle_channel, pulse_us)\n",
    "\n",
    "# Create the car object the notebook expects\n",
    "car = NvidiaRacecar()\n",
    "\n",
    "# Test that it has the right attributes\n",
    "print(f\"✅ steering_gain: {car.steering_gain}\")\n",
    "print(f\"✅ steering_offset: {car.steering_offset}\") \n",
    "print(f\"✅ throttle_gain: {car.throttle_gain}\")\n",
    "print(\"🎯 Ready for AI training!\")"
   ]
  },
  {
   "cell_type": "markdown",
   "metadata": {},
   "source": [
    "The ``NvidiaRacecar`` implements the ``Racecar`` class, so it has two attributes ``throttle`` and ``steering``. \n",
    "\n",
    "We can assign values in the range ``[-1, 1]`` to these attributes.  Execute the following to set the steering to 0.4.\n",
    "\n",
    "> If the car does not respond, it may still be in ``manual`` mode.  Flip the manual override switch on the RC transmitter."
   ]
  },
  {
   "cell_type": "code",
   "execution_count": 9,
   "metadata": {},
   "outputs": [],
   "source": [
    "car.steering = 0\n"
   ]
  },
  {
   "cell_type": "markdown",
   "metadata": {},
   "source": [
    "The ``NvidiaRacecar`` class has two values ``steering_gain`` and ``steering_bias`` that can be used to calibrate the steering.\n",
    "\n",
    "We can view the default values by executing the cells below."
   ]
  },
  {
   "cell_type": "code",
   "execution_count": 11,
   "metadata": {},
   "outputs": [
    {
     "name": "stdout",
     "output_type": "stream",
     "text": [
      "-0.65\n"
     ]
    }
   ],
   "source": [
    "print(car.steering_gain)"
   ]
  },
  {
   "cell_type": "code",
   "execution_count": 12,
   "metadata": {},
   "outputs": [
    {
     "name": "stdout",
     "output_type": "stream",
     "text": [
      "0.0\n"
     ]
    }
   ],
   "source": [
    "print(car.steering_offset)"
   ]
  },
  {
   "cell_type": "markdown",
   "metadata": {},
   "source": [
    "The final steering value is computed using the equation\n",
    "\n",
    "$y = a \\times x + b$\n",
    "\n",
    "Where,\n",
    "\n",
    "* $a$ is ``car.steering_gain``\n",
    "* $b$ is ``car.steering_offset``\n",
    "* $x$ is ``car.steering``\n",
    "* $y$ is the value written to the motor driver\n",
    "\n",
    "You can adjust these values calibrate the car so that setting a value of ``0`` moves forward, and setting a value of ``1`` goes fully right, and ``-1`` fully left."
   ]
  },
  {
   "cell_type": "markdown",
   "metadata": {},
   "source": [
    "To set the throttle of the car to ``0.2``, you can call the following.\n",
    "\n",
    "> Give JetRacer lots of space to move, and be ready on the manual override, JetRacer is *fast*"
   ]
  },
  {
   "cell_type": "code",
   "execution_count": 17,
   "metadata": {},
   "outputs": [],
   "source": [
    "car.throttle = 0"
   ]
  },
  {
   "cell_type": "markdown",
   "metadata": {},
   "source": [
    "The throttle also has a gain value that could be used to control the speed response.  The throttle output is computed as\n",
    "\n",
    "$y = a \\times x$\n",
    "\n",
    "Where,\n",
    "\n",
    "* $a$ is ``car.throttle_gain``\n",
    "* $x$ is ``car.throttle``\n",
    "* $y$ is the value written to the speed controller\n",
    "\n",
    "Execute the following to print the default gain"
   ]
  },
  {
   "cell_type": "code",
   "execution_count": 18,
   "metadata": {},
   "outputs": [
    {
     "name": "stdout",
     "output_type": "stream",
     "text": [
      "0.8\n"
     ]
    }
   ],
   "source": [
    "print(car.throttle_gain)"
   ]
  },
  {
   "cell_type": "markdown",
   "metadata": {},
   "source": [
    "Set the following to limit the throttle to half"
   ]
  },
  {
   "cell_type": "code",
   "execution_count": 19,
   "metadata": {},
   "outputs": [],
   "source": [
    "car.throttle_gain = 0.5"
   ]
  },
  {
   "cell_type": "markdown",
   "metadata": {},
   "source": [
    "Please note the throttle is directly mapped to the RC car.  When the car is stopped and a negative throttle is set, it will reverse.  If the car is moving forward and a negative throttle is set, it will brake."
   ]
  },
  {
   "cell_type": "markdown",
   "metadata": {},
   "source": [
    "That's it for this notebook!"
   ]
  },
  {
   "cell_type": "code",
   "execution_count": null,
   "metadata": {},
   "outputs": [],
   "source": []
  }
 ],
 "metadata": {
  "kernelspec": {
   "display_name": "Python 3 (ipykernel)",
   "language": "python",
   "name": "python3"
  },
  "language_info": {
   "codemirror_mode": {
    "name": "ipython",
    "version": 3
   },
   "file_extension": ".py",
   "mimetype": "text/x-python",
   "name": "python",
   "nbconvert_exporter": "python",
   "pygments_lexer": "ipython3",
   "version": "3.10.12"
  }
 },
 "nbformat": 4,
 "nbformat_minor": 4
}
